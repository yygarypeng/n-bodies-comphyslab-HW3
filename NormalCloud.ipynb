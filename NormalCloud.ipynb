{
 "cells": [
  {
   "cell_type": "markdown",
   "metadata": {},
   "source": [
    "### 111 Computational Physics Lab  \n",
    "### Homework 3\n",
    "#### Programming Assignment\n",
    "  >Author: Yuan-Yen Peng 108000204  \n",
    "  >Email: garyphys0915@gapp.nthu.edu.com  \n",
    "  >Date: Dec. 05, 2022  \n",
    "  >LICENCE: MIT"
   ]
  },
  {
   "cell_type": "code",
   "execution_count": null,
   "metadata": {},
   "outputs": [],
   "source": [
    "%reset -f\n",
    "\n",
    "import numpy as np\n",
    "import glob\n",
    "from numba import njit, prange, set_num_threads\n",
    "import matplotlib.pyplot as plt\n",
    "from mpl_toolkits.mplot3d import Axes3D\n",
    "import matplotlib.animation as animation\n",
    "from nbody.particles import Particles\n",
    "from nbody.simulation import NbodySimulation"
   ]
  },
  {
   "cell_type": "code",
   "execution_count": null,
   "metadata": {},
   "outputs": [],
   "source": [
    "problem_name = \"NormalCloud\"\n",
    "Num = int(1e4)\n",
    "tmax = 10\n",
    "dt = 0.01\n",
    "step = int(tmax / dt)\n",
    "r_soft = 0.01\n",
    "\n",
    "radn = np.zeros((Num, 3))\n",
    "for i in range(Num):\n",
    "    mu, sigma = 0, 1 # mean = 0; variance = 1, i.e., standard deviation = sqrt(var) = 1\n",
    "    radn[i] = np.random.normal(mu, sigma, 3)"
   ]
  },
  {
   "cell_type": "code",
   "execution_count": null,
   "metadata": {},
   "outputs": [],
   "source": [
    "set_num_threads(8)\n",
    "@njit(parallel = True)\n",
    "def generator(radn, N, positions, velocities, accelerations):\n",
    "        for i in prange(N):\n",
    "            positions[i, :] = radn[i] * 10\n",
    "            velocities[i, :] = radn[i]\n",
    "            accelerations[i, :] = radn[i]\n",
    "            \n",
    "        return positions, velocities, accelerations"
   ]
  },
  {
   "cell_type": "code",
   "execution_count": null,
   "metadata": {},
   "outputs": [],
   "source": [
    "def initialRandomParticles(N):\n",
    "        \"\"\"\n",
    "        Initial particles\n",
    "\n",
    "        \"\"\"\n",
    "        total_mass = 20\n",
    "        particles = Particles(N = N)\n",
    "        \n",
    "        positions = particles.get_positions()\n",
    "        velocities = particles.get_velocities()\n",
    "        accelerations = particles.get_accelerations()\n",
    "        masses = particles.get_masses() # ones array (size = N)\n",
    "        mass = total_mass / particles.nparticles # single particel's mass\n",
    "        \n",
    "        particles.set_masses((masses * mass))\n",
    "        particles.set_positions(generator(N, positions, velocities, accelerations)[0])\n",
    "        particles.set_velocities(generator(N, positions, velocities, accelerations)[1])\n",
    "        particles.set_accelerations(generator(N, positions, velocities, accelerations)[2])\n",
    "\n",
    "        return particles"
   ]
  },
  {
   "cell_type": "markdown",
   "metadata": {},
   "source": [
    "solve with t = 0 ~ 10 with dt = 0.01 and r_soft = 0.01."
   ]
  },
  {
   "cell_type": "code",
   "execution_count": 123,
   "metadata": {},
   "outputs": [
    {
     "ename": "SystemError",
     "evalue": "CPUDispatcher(<function ACC_njit at 0x7fdbf92beaf0>) returned a result with an error set",
     "output_type": "error",
     "traceback": [
      "\u001b[0;31m---------------------------------------------------------------------------\u001b[0m",
      "\u001b[0;31mKeyboardInterrupt\u001b[0m                         Traceback (most recent call last)",
      "File \u001b[0;32m~/opt/anaconda3/envs/comphyslab/lib/python3.9/site-packages/numba/core/serialize.py:29\u001b[0m, in \u001b[0;36m_numba_unpickle\u001b[0;34m(address, bytedata, hashed)\u001b[0m\n\u001b[1;32m     26\u001b[0m _unpickled_memo \u001b[39m=\u001b[39m {}\n\u001b[0;32m---> 29\u001b[0m \u001b[39mdef\u001b[39;00m \u001b[39m_numba_unpickle\u001b[39m(address, bytedata, hashed):\n\u001b[1;32m     30\u001b[0m     \u001b[39m\"\"\"Used by `numba_unpickle` from _helperlib.c\u001b[39;00m\n\u001b[1;32m     31\u001b[0m \n\u001b[1;32m     32\u001b[0m \u001b[39m    Parameters\u001b[39;00m\n\u001b[0;32m   (...)\u001b[0m\n\u001b[1;32m     41\u001b[0m \u001b[39m        unpickled object\u001b[39;00m\n\u001b[1;32m     42\u001b[0m \u001b[39m    \"\"\"\u001b[39;00m\n",
      "\u001b[0;31mKeyboardInterrupt\u001b[0m: ",
      "\nThe above exception was the direct cause of the following exception:\n",
      "\u001b[0;31mSystemError\u001b[0m                               Traceback (most recent call last)",
      "Cell \u001b[0;32mIn [123], line 7\u001b[0m\n\u001b[1;32m      5\u001b[0m sim \u001b[39m=\u001b[39m NbodySimulation(particles)\n\u001b[1;32m      6\u001b[0m sim\u001b[39m.\u001b[39msetup(G\u001b[39m=\u001b[39m\u001b[39m1\u001b[39m,method\u001b[39m=\u001b[39mmethod,io_freq\u001b[39m=\u001b[39m\u001b[39m200\u001b[39m,io_title\u001b[39m=\u001b[39mproblem_name,io_screen\u001b[39m=\u001b[39m\u001b[39mTrue\u001b[39;00m,visualized\u001b[39m=\u001b[39m\u001b[39mFalse\u001b[39;00m)\n\u001b[0;32m----> 7\u001b[0m Energy_RK4 \u001b[39m=\u001b[39m sim\u001b[39m.\u001b[39;49mevolve(dt\u001b[39m=\u001b[39;49mdt,tmax\u001b[39m=\u001b[39;49mtmax)\n",
      "File \u001b[0;32m~/Library/CloudStorage/OneDrive-清華大學/NTHU111fall/Computational Physcics Lab/Homework/HW3/Comphyslab-HW3/nbody/simulation.py:301\u001b[0m, in \u001b[0;36mNbodySimulation.evolve\u001b[0;34m(self, dt, tmax)\u001b[0m\n\u001b[1;32m    299\u001b[0m particles \u001b[39m=\u001b[39m _update_particles(dt, particles)[\u001b[39m0\u001b[39m]\n\u001b[1;32m    300\u001b[0m UU[i] \u001b[39m=\u001b[39m _update_particles(dt, particles)[\u001b[39m1\u001b[39m]\n\u001b[0;32m--> 301\u001b[0m KK[i] \u001b[39m=\u001b[39m _update_particles(dt, particles)[\u001b[39m2\u001b[39m]\n\u001b[1;32m    302\u001b[0m EE[i] \u001b[39m=\u001b[39m UU[i] \u001b[39m+\u001b[39m KK[i]\n\u001b[1;32m    303\u001b[0m \u001b[39m# update io\u001b[39;00m\n",
      "File \u001b[0;32m~/Library/CloudStorage/OneDrive-清華大學/NTHU111fall/Computational Physcics Lab/Homework/HW3/Comphyslab-HW3/nbody/simulation.py:436\u001b[0m, in \u001b[0;36mNbodySimulation._update_particles_rk4\u001b[0;34m(self, dt, particles)\u001b[0m\n\u001b[1;32m    434\u001b[0m k3 \u001b[39m=\u001b[39m np\u001b[39m.\u001b[39marray([y_temp[\u001b[39m1\u001b[39m], acc])\n\u001b[1;32m    435\u001b[0m y_temp \u001b[39m=\u001b[39m y0 \u001b[39m+\u001b[39m dt \u001b[39m*\u001b[39m k3\n\u001b[0;32m--> 436\u001b[0m acc \u001b[39m=\u001b[39m \u001b[39mself\u001b[39;49m\u001b[39m.\u001b[39;49m_calculate_acceleration(mass, y_temp[\u001b[39m0\u001b[39;49m])[\u001b[39m0\u001b[39m]\n\u001b[1;32m    437\u001b[0m k4 \u001b[39m=\u001b[39m np\u001b[39m.\u001b[39marray([y_temp[\u001b[39m1\u001b[39m], acc])\n\u001b[1;32m    439\u001b[0m y0 \u001b[39m=\u001b[39m np\u001b[39m.\u001b[39madd(y0, (\u001b[39m1\u001b[39m\u001b[39m/\u001b[39m\u001b[39m6\u001b[39m) \u001b[39m*\u001b[39m dt \u001b[39m*\u001b[39m (k1 \u001b[39m+\u001b[39m \u001b[39m2\u001b[39m\u001b[39m*\u001b[39mk2 \u001b[39m+\u001b[39m \u001b[39m2\u001b[39m\u001b[39m*\u001b[39mk3 \u001b[39m+\u001b[39m k4))\n",
      "File \u001b[0;32m~/Library/CloudStorage/OneDrive-清華大學/NTHU111fall/Computational Physcics Lab/Homework/HW3/Comphyslab-HW3/nbody/simulation.py:368\u001b[0m, in \u001b[0;36mNbodySimulation._calculate_acceleration\u001b[0;34m(self, mass, pos)\u001b[0m\n\u001b[1;32m    365\u001b[0m vel \u001b[39m=\u001b[39m particles\u001b[39m.\u001b[39mget_velocities()\n\u001b[1;32m    366\u001b[0m vel_square \u001b[39m=\u001b[39m np\u001b[39m.\u001b[39msquare(vel)\n\u001b[0;32m--> 368\u001b[0m arr \u001b[39m=\u001b[39m ACC_njit(N, posx, posy, posz, G, mass, rsoft, U, K, vel_square)\n\u001b[1;32m    370\u001b[0m \u001b[39mreturn\u001b[39;00m arr\n",
      "\u001b[0;31mSystemError\u001b[0m: CPUDispatcher(<function ACC_njit at 0x7fdbf92beaf0>) returned a result with an error set"
     ]
    }
   ],
   "source": [
    "# Initial particles here.\n",
    "method = \"RK4\"\n",
    "particles = initialRandomParticles(N = Num)\n",
    "# Run the n-body simulations\n",
    "sim = NbodySimulation(particles)\n",
    "sim.setup(G=1,method=method,io_freq=200,io_title=problem_name,io_screen=True,visualized=False)\n",
    "Energy_RK4 = sim.evolve(dt=dt,tmax=tmax)"
   ]
  },
  {
   "cell_type": "code",
   "execution_count": null,
   "metadata": {},
   "outputs": [],
   "source": [
    "# Initial particles here.\n",
    "method = \"RK2\"\n",
    "particles = initialRandomParticles(N = Num)\n",
    "# Run the n-body simulations\n",
    "sim = NbodySimulation(particles)\n",
    "sim.setup(G=1,method=method,io_freq=200,io_title=problem_name,io_screen=True,visualized=False)\n",
    "Energy_RK2 = sim.evolve(dt=dt,tmax=tmax)"
   ]
  },
  {
   "cell_type": "code",
   "execution_count": null,
   "metadata": {},
   "outputs": [],
   "source": [
    "# Initial particles here.\n",
    "method = \"Euler\"\n",
    "particles = initialRandomParticles(N = Num)\n",
    "# Run the n-body simulations\n",
    "sim = NbodySimulation(particles)\n",
    "sim.setup(G=1,method=method,io_freq=200,io_title=problem_name,io_screen=True,visualized=False)\n",
    "Energy_Euler = sim.evolve(dt=dt,tmax=tmax)"
   ]
  },
  {
   "cell_type": "code",
   "execution_count": null,
   "metadata": {},
   "outputs": [],
   "source": [
    "# Initial particles here.\n",
    "method = \"Leapfrog\"\n",
    "particles = initialRandomParticles(N = Num)\n",
    "# Run the n-body simulations\n",
    "sim = NbodySimulation(particles)\n",
    "sim.setup(G=1,method=method,io_freq=200,io_title=problem_name,io_screen=True,visualized=False)\n",
    "Energy_LF = sim.evolve(dt=dt,tmax=tmax)"
   ]
  },
  {
   "cell_type": "code",
   "execution_count": null,
   "metadata": {},
   "outputs": [],
   "source": [
    "TT = len(Energy_RK4[0])\n",
    "Time = np.linspace(0, tmax, len(Energy_RK4[0]))\n",
    "Diff_tot = np.abs((Energy_RK4[0] + Energy_RK4[1]) - (Energy_LF[0] + Energy_LF[1]))\n",
    "Diff = np.abs(np.array(Energy_RK4) - np.array(Energy_LF))\n",
    "avg = np.average(Diff_tot)\n",
    "accuracy = np.log10(avg)\n",
    "print(\"Average = \", avg)\n",
    "print(\"Accuracy (log) = \", accuracy)\n",
    "\n",
    "plt.plot(Time, Diff[0], \"g\", alpha = .3, label = \"U\")\n",
    "plt.plot(Time, Diff[1], \"b\", alpha = .3, label = \"K\")\n",
    "plt.plot(Time, Diff_tot, \"--r\", alpha = .7, label = \"tot\")\n",
    "plt.xlabel(\"Time [code unit]\")\n",
    "plt.ylabel(\"Diff\")\n",
    "plt.title(f\"RK4 vs. Leapfrog (Diff comparison) \\n accuracy(log10) = {np.round(accuracy, 5)}\")\n",
    "plt.legend()\n",
    "plt.show()"
   ]
  },
  {
   "cell_type": "code",
   "execution_count": null,
   "metadata": {},
   "outputs": [],
   "source": [
    "Energy_LF = Energy_RK2\n",
    "TT = len(Energy_RK4[0])\n",
    "Time = np.linspace(0, tmax, len(Energy_RK4[0]))\n",
    "Diff_tot = np.abs((Energy_RK4[0] + Energy_RK4[1]) - (Energy_LF[0] + Energy_LF[1]))\n",
    "Diff = np.abs(np.array(Energy_RK4) - np.array(Energy_LF))\n",
    "avg = np.average(Diff_tot)\n",
    "accuracy = np.log10(avg)\n",
    "print(\"Average = \", avg)\n",
    "print(\"Accuracy (log) = \", accuracy)\n",
    "\n",
    "plt.plot(Time, Diff[0], \"g\", alpha = .3, label = \"U\")\n",
    "plt.plot(Time, Diff[1], \"b\", alpha = .3, label = \"K\")\n",
    "plt.plot(Time, Diff_tot, \"--r\", alpha = .7, label = \"tot\")\n",
    "plt.xlabel(\"Time [code unit]\")\n",
    "plt.ylabel(\"Diff\")\n",
    "plt.title(f\"RK4 vs. RK2 (Diff comparison) \\n accuracy(log10) = {np.round(accuracy, 5)}\")\n",
    "plt.legend()\n",
    "plt.show()"
   ]
  },
  {
   "cell_type": "code",
   "execution_count": null,
   "metadata": {},
   "outputs": [],
   "source": [
    "Energy_LF = Energy_Euler\n",
    "TT = len(Energy_RK4[0])\n",
    "Time = np.linspace(0, tmax, len(Energy_RK4[0]))\n",
    "Diff_tot = np.abs((Energy_RK4[0] + Energy_RK4[1]) - (Energy_LF[0] + Energy_LF[1]))\n",
    "Diff = np.abs(np.array(Energy_RK4) - np.array(Energy_LF))\n",
    "avg = np.average(Diff_tot)\n",
    "accuracy = np.log10(avg)\n",
    "print(\"Average = \", avg)\n",
    "print(\"Accuracy (log) = \", accuracy)\n",
    "\n",
    "plt.plot(Time, Diff[0], \"g\", alpha = .3, label = \"U\")\n",
    "plt.plot(Time, Diff[1], \"b\", alpha = .3, label = \"K\")\n",
    "plt.plot(Time, Diff_tot, \"--r\", alpha = .7, label = \"tot\")\n",
    "plt.xlabel(\"Time [code unit]\")\n",
    "plt.ylabel(\"Diff\")\n",
    "plt.title(f\"RK4 vs. Euler (Diff comparison) \\n accuracy(log10) = {np.round(accuracy, 5)}\")\n",
    "plt.legend()\n",
    "plt.show()"
   ]
  }
 ],
 "metadata": {
  "kernelspec": {
   "display_name": "Python 3.9.15 ('comphyslab')",
   "language": "python",
   "name": "python3"
  },
  "language_info": {
   "codemirror_mode": {
    "name": "ipython",
    "version": 3
   },
   "file_extension": ".py",
   "mimetype": "text/x-python",
   "name": "python",
   "nbconvert_exporter": "python",
   "pygments_lexer": "ipython3",
   "version": "3.9.15"
  },
  "orig_nbformat": 4,
  "vscode": {
   "interpreter": {
    "hash": "eeea1ce61b540986bdb81269f410f173c0c0cba22073620a68832cfc592c0b3f"
   }
  }
 },
 "nbformat": 4,
 "nbformat_minor": 2
}
